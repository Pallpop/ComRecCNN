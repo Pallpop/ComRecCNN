{
 "cells": [
  {
   "cell_type": "code",
   "execution_count": null,
   "metadata": {},
   "outputs": [],
   "source": [
    "import time\n",
    "import torch\n",
    "import torch.nn as nn\n",
    "from utils.model.resnet import ResNet18\n",
    "from utils.utils.dataloader import *\n",
    "\n",
    "train_loader, test_loader, labels = cifar10(100)\n",
    "PATH_PARAMETERS = \"models/cifar10/resnet.pth\"\n",
    "device = \"cuda\" if torch.cuda.is_available() else \"cpu\"\n",
    "\n",
    "train_net = ResNet18().to(device)\n",
    "epochs = 30\n",
    "\n",
    "criterion = nn.CrossEntropyLoss()\n",
    "optimizer = torch.optim.SGD(train_net.parameters(), lr=0.1,\n",
    "                      momentum=0.9, weight_decay=5e-4)\n",
    "scheduler = torch.optim.lr_scheduler.CosineAnnealingLR(optimizer, T_max=epochs)\n",
    "\n"
   ]
  },
  {
   "cell_type": "code",
   "execution_count": null,
   "metadata": {},
   "outputs": [],
   "source": [
    "def train(epoch):\n",
    "    train_net.train()\n",
    "    train_loss = 0.0\n",
    "    correct = 0.0\n",
    "    total = 0.0\n",
    "    start_time = time.time()\n",
    "    for i, (X, y) in enumerate(train_loader):\n",
    "        X, y = X.to(device), y.to(device)\n",
    "        optimizer.zero_grad()\n",
    "        output = train_net(X)\n",
    "        loss = criterion(output, y)\n",
    "        loss.backward()\n",
    "        optimizer.step()\n",
    "        pred = output.argmax(1)\n",
    "        correct += torch.eq(pred, y).sum().item()\n",
    "        total += y.size(0)\n",
    "        train_loss += loss.item()\n",
    "    end_time = time.time()\n",
    "    time_taken = end_time - start_time\n",
    "\n",
    "    print(\"Epoch: {}  train_loss: {}  accuracy: {}\".format(epoch + 1, train_loss / len(train_loader),\n",
    "                                                             100*correct / total))\n",
    "    print(\"Time:\", time_taken)\n",
    "    train_loss = 0.0\n",
    "\n",
    "def test(epoch):\n",
    "    train_net.eval()\n",
    "    test_loss = 0.0\n",
    "    correct = 0.0\n",
    "    total = 0.0\n",
    "    start_time = time.time()\n",
    "    with torch.no_grad():\n",
    "        for i, (X, y) in enumerate(test_loader):\n",
    "            X, y = X.to(device), y.to(device)\n",
    "            output = train_net(X)\n",
    "            loss = criterion(output, y)\n",
    "            pred = output.argmax(1)\n",
    "            correct += torch.eq(pred, y).sum().item()\n",
    "            test_loss += loss.item()\n",
    "            \n",
    "            total += y.size(0)\n",
    "        end_time = time.time()\n",
    "        time_taken = end_time - start_time\n",
    "\n",
    "        print(\n",
    "            \"Epoch: {}  test_loss: {}  accuracy: {}\".format(epoch + 1, test_loss / len(test_loader), 100*correct / total))\n",
    "        print(\"Time:\", time_taken)\n",
    "        test_loss = 0.0\n",
    "    print(\"saving net...\")\n",
    "    torch.save(train_net.state_dict(), \"models/cifar10/advresnet.pth\")"
   ]
  },
  {
   "cell_type": "code",
   "execution_count": null,
   "metadata": {},
   "outputs": [],
   "source": [
    "for epoch in range(epochs):\n",
    "    train(epoch)\n",
    "    test(epoch)\n",
    "    scheduler.step()"
   ]
  }
 ],
 "metadata": {
  "interpreter": {
   "hash": "64f99524625dc872a8bee76e5af2adbe33e847c96d0f0628067ede9592bae3bc"
  },
  "kernelspec": {
   "display_name": "Python 3.8.0 ('pytorch')",
   "language": "python",
   "name": "python3"
  },
  "language_info": {
   "codemirror_mode": {
    "name": "ipython",
    "version": 3
   },
   "file_extension": ".py",
   "mimetype": "text/x-python",
   "name": "python",
   "nbconvert_exporter": "python",
   "pygments_lexer": "ipython3",
   "version": "3.10.4"
  },
  "orig_nbformat": 4
 },
 "nbformat": 4,
 "nbformat_minor": 2
}
