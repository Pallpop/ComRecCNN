{
 "cells": [
  {
   "cell_type": "code",
   "execution_count": null,
   "metadata": {},
   "outputs": [],
   "source": [
    "import torch\n",
    "from utils.model.resnet import ResNet18\n",
    "from utils.model.comreccnn_3 import ComRecCNN\n",
    "from utils.utils.dataloader import *\n",
    "\n",
    "train_loader, test_loader, labels = cifar10(100)\n",
    "device = torch.device(\"cuda:0\" if torch.cuda.is_available() else \"cpu\")\n",
    "\n",
    "net = ResNet18().to(device).eval()\n",
    "PATH_PARAMETERS = \"models/cifar10/resnet.pth\"\n",
    "net.load_state_dict(torch.load(PATH_PARAMETERS))\n",
    "\n",
    "comreccnn = ComRecCNN(net, device)\n",
    "comreccnn.set_models_path(\"models/comcnn.pth\", \"models/reccnn.pth\")\n",
    "comreccnn.run(train_loader, test_loader, epoch=50, is_continue=False)\n"
   ]
  },
  {
   "cell_type": "code",
   "execution_count": null,
   "metadata": {},
   "outputs": [],
   "source": []
  }
 ],
 "metadata": {
  "interpreter": {
   "hash": "80ef68ea1d89f7d4a648e632c5d4fe9536b440f3dfbd87c3ffb02c3cddc38274"
  },
  "kernelspec": {
   "display_name": "Python 3.10.4 ('bs')",
   "language": "python",
   "name": "python3"
  },
  "language_info": {
   "codemirror_mode": {
    "name": "ipython",
    "version": 3
   },
   "file_extension": ".py",
   "mimetype": "text/x-python",
   "name": "python",
   "nbconvert_exporter": "python",
   "pygments_lexer": "ipython3",
   "version": "3.10.4"
  },
  "toc": {
   "base_numbering": 1,
   "nav_menu": {},
   "number_sections": true,
   "sideBar": true,
   "skip_h1_title": false,
   "title_cell": "Table of Contents",
   "title_sidebar": "Contents",
   "toc_cell": false,
   "toc_position": {},
   "toc_section_display": true,
   "toc_window_display": false
  },
  "varInspector": {
   "cols": {
    "lenName": 16,
    "lenType": 16,
    "lenVar": 40
   },
   "kernels_config": {
    "python": {
     "delete_cmd_postfix": "",
     "delete_cmd_prefix": "del ",
     "library": "var_list.py",
     "varRefreshCmd": "print(var_dic_list())"
    },
    "r": {
     "delete_cmd_postfix": ") ",
     "delete_cmd_prefix": "rm(",
     "library": "var_list.r",
     "varRefreshCmd": "cat(var_dic_list()) "
    }
   },
   "types_to_exclude": [
    "module",
    "function",
    "builtin_function_or_method",
    "instance",
    "_Feature"
   ],
   "window_display": false
  }
 },
 "nbformat": 4,
 "nbformat_minor": 2
}
